{
  "cells": [
    {
      "cell_type": "markdown",
      "metadata": {
        "id": "44W1CoXS5_po"
      },
      "source": [
        "#  Outline"
      ]
    },
    {
      "cell_type": "markdown",
      "metadata": {
        "id": "GQrZtCRsEQwJ"
      },
      "source": [
        "<ul>\n",
        "    <li> Object-Oriented Programming\n",
        "    <ul><li> Overview of OOP terminology</li>\n",
        "    <li> Class and Object</li>\n",
        "    <li> Inheritence</li>\n",
        "    <li> Method Overloading</li>\n",
        "    </ul>\n",
        "    </li>\n",
        "</ul>"
      ]
    },
    {
      "cell_type": "markdown",
      "metadata": {
        "id": "ANKvBVCU6lMn"
      },
      "source": [
        "# 1.Object Oriented Programming"
      ]
    },
    {
      "cell_type": "markdown",
      "metadata": {
        "id": "UVT-_-OVU65u"
      },
      "source": [
        "### 1.1 Overview of OOP\n",
        "<h4>\n",
        "<ul>\n",
        "<li>\n",
        "<b>Class −</b> A blue print for an object to define a set of attributes that characterize any object of the class. Example is a person class.</li>\n",
        "<b>Object −</b> A unique instance of a data structure that's defined by its class.</li>\n",
        "<li>\n",
        "<b>Inheritance −</b> The transfer of the characteristics of a class to other classes that are derived from it. For example male person class is inherited from person class.</li>\n",
        "<li>\n",
        "<b>Function overloading −</b> The assignment of more than one behavior to a particular function. For example the walk() methods can be many like walk forward, backward and sideways for the person class.</li>\n",
        "</h4>"
      ]
    },
    {
      "cell_type": "markdown",
      "metadata": {
        "id": "bQfi5O92biog"
      },
      "source": [
        "### 1.2 Creating Classes\n",
        "<ul>\n",
        "<h4><li>The first method __init__() is a special method, which is called class constructor or initialization method that Python calls when you create a new instance of this class.</li>\n",
        "<li>You declare other class methods like normal functions with the exception that the first argument to each method is self.</li></h4></ul>"
      ]
    },
    {
      "cell_type": "code",
      "execution_count": null,
      "metadata": {
        "id": "trZQ9ETdbxdS"
      },
      "outputs": [],
      "source": [
        "# person.py\n",
        "class Person:\n",
        "    def __init__(self,name,age,gender,x,y,z):\n",
        "        self.name = name\n",
        "        self.age = age\n",
        "        self.gender = gender\n",
        "        self.x = x\n",
        "        self.y = y\n",
        "        self.z = z\n",
        "        self.score = 0\n",
        "    \n",
        "    def show_player_info(self):\n",
        "        print(self.name + ' is Currently at location: ('+str(self.x)+','+str(self.y)+','+str(self.z)+') with score:',self.score)\n",
        "\n",
        "    def walk(self,direction,unit):\n",
        "        if direction=='front':\n",
        "            self.x += unit"
      ]
    },
    {
      "cell_type": "markdown",
      "metadata": {
        "id": "qj_ll64oegF6"
      },
      "source": [
        "### 1.3 Creating Instance Objects"
      ]
    },
    {
      "cell_type": "code",
      "execution_count": null,
      "metadata": {
        "colab": {
          "base_uri": "https://localhost:8080/"
        },
        "id": "7PnP5hineijY",
        "outputId": "3ab17544-473f-42cd-97d0-13eeb3a069e1"
      },
      "outputs": [
        {
          "output_type": "stream",
          "name": "stdout",
          "text": [
            "John is Currently at location: (0,0,0) with score: 0\n"
          ]
        }
      ],
      "source": [
        "player_john = Person('John',19,'M',0,0,0)\n",
        "player_john.show_player_info()\n"
      ]
    },
    {
      "cell_type": "code",
      "execution_count": null,
      "metadata": {
        "colab": {
          "base_uri": "https://localhost:8080/"
        },
        "id": "9BnY5d9yfzZA",
        "outputId": "7b774169-8e4b-4524-b022-8850bfc8c3b9"
      },
      "outputs": [
        {
          "output_type": "execute_result",
          "data": {
            "text/plain": [
              "(19, 'M')"
            ]
          },
          "metadata": {},
          "execution_count": 3
        }
      ],
      "source": [
        "# access properties\n",
        "player_john.age,player_john.gender"
      ]
    },
    {
      "cell_type": "markdown",
      "metadata": {
        "id": "WRcsCuffgQuj"
      },
      "source": [
        "### 1.4 Class Inheritence"
      ]
    },
    {
      "cell_type": "markdown",
      "source": [
        "\n",
        "\n",
        "```\n",
        "class SubClassName ([ParentClass1, ParentClass2, ...]):\n",
        "    'Optional class documentation string'\n",
        "    class_suite\n",
        "```\n",
        "\n"
      ],
      "metadata": {
        "id": "c1R_SIRgnKdb"
      }
    },
    {
      "cell_type": "code",
      "execution_count": null,
      "metadata": {
        "id": "wQzFr50HhaYK"
      },
      "outputs": [],
      "source": [
        "class Hero(Person):\n",
        "    def __init__(self,super_power):\n",
        "        self.super_power = super_power\n",
        "    def super_power_info(self):\n",
        "        print(self.name + 'has the super power of' + self.super_power)"
      ]
    },
    {
      "cell_type": "code",
      "execution_count": null,
      "metadata": {
        "colab": {
          "base_uri": "https://localhost:8080/",
          "height": 35
        },
        "id": "5i4DN3XXkf_w",
        "outputId": "1ae57a97-b7a0-45dd-956a-60b9f6643a0e"
      },
      "outputs": [
        {
          "output_type": "execute_result",
          "data": {
            "text/plain": [
              "'faster'"
            ],
            "application/vnd.google.colaboratory.intrinsic+json": {
              "type": "string"
            }
          },
          "metadata": {},
          "execution_count": 5
        }
      ],
      "source": [
        "player_hero = Hero('faster')\n",
        "player_hero.super_power"
      ]
    },
    {
      "cell_type": "code",
      "execution_count": null,
      "metadata": {
        "colab": {
          "base_uri": "https://localhost:8080/",
          "height": 184
        },
        "id": "Bv-JoG0VjaKx",
        "outputId": "0d7ed349-beb5-40c1-e9c6-ce6acf843177"
      },
      "outputs": [
        {
          "output_type": "error",
          "ename": "TypeError",
          "evalue": "ignored",
          "traceback": [
            "\u001b[0;31m---------------------------------------------------------------------------\u001b[0m",
            "\u001b[0;31mTypeError\u001b[0m                                 Traceback (most recent call last)",
            "\u001b[0;32m<ipython-input-6-7e9990ded974>\u001b[0m in \u001b[0;36m<module>\u001b[0;34m()\u001b[0m\n\u001b[0;32m----> 1\u001b[0;31m \u001b[0mplayer_hero\u001b[0m \u001b[0;34m=\u001b[0m \u001b[0mHero\u001b[0m\u001b[0;34m(\u001b[0m\u001b[0;34m'Barry Alan'\u001b[0m\u001b[0;34m,\u001b[0m\u001b[0;36m23\u001b[0m\u001b[0;34m,\u001b[0m\u001b[0;34m'M'\u001b[0m\u001b[0;34m,\u001b[0m\u001b[0;36m1\u001b[0m\u001b[0;34m,\u001b[0m\u001b[0;36m1\u001b[0m\u001b[0;34m,\u001b[0m\u001b[0;36m2\u001b[0m\u001b[0;34m,\u001b[0m\u001b[0;34m'faster'\u001b[0m\u001b[0;34m)\u001b[0m\u001b[0;34m\u001b[0m\u001b[0;34m\u001b[0m\u001b[0m\n\u001b[0m\u001b[1;32m      2\u001b[0m \u001b[0mplayer_hero\u001b[0m\u001b[0;34m.\u001b[0m\u001b[0mname\u001b[0m\u001b[0;34m\u001b[0m\u001b[0;34m\u001b[0m\u001b[0m\n",
            "\u001b[0;31mTypeError\u001b[0m: __init__() takes 2 positional arguments but 8 were given"
          ]
        }
      ],
      "source": [
        "player_hero = Hero('Barry Alan',23,'M',1,1,2,'faster')\n",
        "player_hero.name"
      ]
    },
    {
      "cell_type": "code",
      "execution_count": null,
      "metadata": {
        "id": "sA6IgSMskx42"
      },
      "outputs": [],
      "source": [
        "class Hero(Person):\n",
        "    def __init__(self,name,age,gender,x,y,z,super_power):\n",
        "        super().__init__(name,age,gender,x,y,z)\n",
        "        self.super_power = super_power\n",
        "    def super_power_info(self):\n",
        "        print(self.name + ' has the super power: ' + self.super_power)\n"
      ]
    },
    {
      "cell_type": "code",
      "execution_count": null,
      "metadata": {
        "colab": {
          "base_uri": "https://localhost:8080/"
        },
        "id": "v84IHoTMk_ia",
        "outputId": "f5b39683-d2ea-48fe-ad80-cbb4444be02e"
      },
      "outputs": [
        {
          "output_type": "stream",
          "name": "stdout",
          "text": [
            "Barry Alan is Currently at location: (1,1,2) with score: 0\n",
            "Barry Alan has the super power: faster\n"
          ]
        }
      ],
      "source": [
        "player_hero = Hero('Barry Alan',23,'M',1,1,2,'faster')\n",
        "player_hero.show_player_info()\n",
        "player_hero.super_power_info()"
      ]
    },
    {
      "cell_type": "markdown",
      "metadata": {
        "id": "WlYvh9GLlygs"
      },
      "source": [
        "### 1.5 Method Overriding"
      ]
    },
    {
      "cell_type": "code",
      "execution_count": null,
      "metadata": {
        "id": "vQewd1fUl66F"
      },
      "outputs": [],
      "source": [
        "class Hero(Person):\n",
        "    def __init__(self,name,age,gender,x,y,z,super_power):\n",
        "        super().__init__(name,age,gender,x,y,z)\n",
        "        self.super_power = super_power\n",
        "        \n",
        "    def super_power_info(self):\n",
        "        print(self.name + ' has the super power: ' + self.super_power)\n",
        "        \n",
        "    def walk(self,direction,unit):\n",
        "        if direction=='front':\n",
        "            self.x += unit*5"
      ]
    },
    {
      "cell_type": "code",
      "execution_count": null,
      "metadata": {
        "colab": {
          "base_uri": "https://localhost:8080/"
        },
        "id": "bufBBWmQmYbW",
        "outputId": "1df4ee05-ed34-4d44-fc96-2f66a963f1e1"
      },
      "outputs": [
        {
          "output_type": "stream",
          "name": "stdout",
          "text": [
            "John is Currently at location: (0,0,0) with score: 0\n",
            "Barry Alan is Currently at location: (1,1,2) with score: 0\n"
          ]
        }
      ],
      "source": [
        "player_john = Person('John',19,'M',0,0,0)\n",
        "player_john.show_player_info()\n",
        "player_hero = Hero('Barry Alan',23,'M',1,1,2,'faster')\n",
        "player_hero.show_player_info()"
      ]
    },
    {
      "cell_type": "code",
      "execution_count": null,
      "metadata": {
        "colab": {
          "base_uri": "https://localhost:8080/"
        },
        "id": "0uGbke1ymrjG",
        "outputId": "7e62a4ed-6a5d-4495-d64f-6b2a24d26a22"
      },
      "outputs": [
        {
          "output_type": "stream",
          "name": "stdout",
          "text": [
            "John is Currently at location: (5,0,0) with score: 0\n"
          ]
        }
      ],
      "source": [
        "player_john.walk('front',5)\n",
        "player_john.show_player_info()"
      ]
    },
    {
      "cell_type": "code",
      "execution_count": null,
      "metadata": {
        "colab": {
          "base_uri": "https://localhost:8080/"
        },
        "id": "r4FJktS2mzfe",
        "outputId": "0f7edfd2-ef5e-4120-f738-f62db9fcc775"
      },
      "outputs": [
        {
          "output_type": "stream",
          "name": "stdout",
          "text": [
            "Barry Alan is Currently at location: (26,1,2) with score: 0\n"
          ]
        }
      ],
      "source": [
        "player_hero.walk('front',5)\n",
        "player_hero.show_player_info()"
      ]
    }
  ],
  "metadata": {
    "colab": {
      "provenance": []
    },
    "kernelspec": {
      "display_name": "Python 3",
      "language": "python",
      "name": "python3"
    },
    "language_info": {
      "codemirror_mode": {
        "name": "ipython",
        "version": 3
      },
      "file_extension": ".py",
      "mimetype": "text/x-python",
      "name": "python",
      "nbconvert_exporter": "python",
      "pygments_lexer": "ipython3",
      "version": "3.8.5"
    }
  },
  "nbformat": 4,
  "nbformat_minor": 0
}